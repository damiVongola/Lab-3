{
 "cells": [
  {
   "cell_type": "markdown",
   "id": "feed8325-177a-4917-bd18-ae46f5a08ece",
   "metadata": {},
   "source": [
    "# Loading Regression Data"
   ]
  },
  {
   "cell_type": "markdown",
   "id": "3e427b33-568e-43d2-9bbc-00280f33678a",
   "metadata": {},
   "source": [
    "# Split training and testing data here"
   ]
  },
  {
   "cell_type": "markdown",
   "id": "e28dda30-2c1b-4d0d-8550-e0642f48adc2",
   "metadata": {},
   "source": [
    "# KNeighborsRegressor\n",
    "## No feature scaling\n",
    "\n",
    "fit knn regressor here without feature scaling"
   ]
  },
  {
   "cell_type": "markdown",
   "id": "1fa23c89-78c5-438e-87dc-7e82ec4c12ec",
   "metadata": {},
   "source": [
    "### Get the mse and rsquared on the testing set with k=10"
   ]
  },
  {
   "cell_type": "markdown",
   "id": "a5d24cc5-d6ad-4053-84ee-e01430bfde58",
   "metadata": {},
   "source": [
    "### Find the k that gives the lowset mse for the problem. (Try k's from 1-40). Print best k found"
   ]
  },
  {
   "cell_type": "markdown",
   "id": "b880873f-148b-41c2-a1be-13b8a0ae2ccf",
   "metadata": {},
   "source": [
    "### Plot testing set mse as k increases. Plot from k=1 to k=40 (y-axis: testing set mse, x-axis: k)"
   ]
  },
  {
   "cell_type": "markdown",
   "id": "bf7b9d62-a1d8-42d0-a256-9c16e1c6ae98",
   "metadata": {},
   "source": [
    "### Fit KnnRegressor with best k and get the mse and rsquared on testing set"
   ]
  },
  {
   "cell_type": "markdown",
   "id": "d7b7576a-2684-4114-a290-4f4549b0a92a",
   "metadata": {},
   "source": [
    "## Feature scaling\n",
    "\n",
    "fit knn regressor here with feature scaling"
   ]
  },
  {
   "cell_type": "markdown",
   "id": "bf2d1ddc-e52c-4a75-976a-e88789c25753",
   "metadata": {},
   "source": [
    "### Fit KnnRegressor with best k and get the mse and rsquared on testing set"
   ]
  },
  {
   "cell_type": "markdown",
   "id": "343fc69f-82b0-433b-9cde-c629cd9c7e98",
   "metadata": {},
   "source": [
    "### Find the k that gives the lowset mse for the problem. (Try k's from 1-40). Print best k found"
   ]
  },
  {
   "cell_type": "markdown",
   "id": "2254de69-2436-4ef6-ae4c-2c55ec4ac845",
   "metadata": {},
   "source": [
    "### Plot testing set mse as k increases. Plot from k=1 to k=40 (y-axis: testing set mse, x-axis: k)"
   ]
  },
  {
   "cell_type": "markdown",
   "id": "013ff3a4-6028-479d-b26e-ede590d7fdac",
   "metadata": {},
   "source": [
    "### Fit KnnRegressor with best k and get the mse and rsquared on testing set"
   ]
  },
  {
   "cell_type": "markdown",
   "id": "dd612ebb-c116-4d69-81df-907b74e4bf04",
   "metadata": {},
   "source": [
    "# DecisionTreeRegressor\n",
    "\n",
    "Fit Decision tree with default parameters"
   ]
  },
  {
   "cell_type": "markdown",
   "id": "67164fd5-b14f-46fd-a53a-e5fa244099db",
   "metadata": {},
   "source": [
    "## Calculate training mse and rsquared"
   ]
  },
  {
   "cell_type": "markdown",
   "id": "5ce402f0-2830-4bb1-aa61-202db3d10970",
   "metadata": {},
   "source": [
    "## Calculate testing mse and rsquared"
   ]
  },
  {
   "cell_type": "markdown",
   "id": "99cbd827-9a8c-45fd-8504-ee4bc298ea9e",
   "metadata": {},
   "source": [
    "## Grid search decision tree hyperparameters for prepruning with mse as the target"
   ]
  },
  {
   "cell_type": "markdown",
   "id": "63d578ac-ce90-4e4b-86b8-f447bc11d850",
   "metadata": {},
   "source": [
    "### Print best_params, best_score"
   ]
  },
  {
   "cell_type": "markdown",
   "id": "2bdc315f-ac13-45ba-acab-9ba2800ada8e",
   "metadata": {},
   "source": [
    "### Use best estimator from grid search and Calculate mse and rsquared on training set "
   ]
  },
  {
   "cell_type": "markdown",
   "id": "febb93f7-a59e-49dd-b06c-5a6767657eb9",
   "metadata": {},
   "source": [
    "### Use best estimator from grid search and Calculate mse and rsquared on testing set "
   ]
  },
  {
   "cell_type": "markdown",
   "id": "1872be37-c365-4d49-8ab2-b2c5b21d8462",
   "metadata": {},
   "source": [
    "### Show dataframe for all Grid search results"
   ]
  },
  {
   "cell_type": "markdown",
   "id": "eee670c7-a7cc-4f6b-9bfe-a9b2f6a179d2",
   "metadata": {},
   "source": [
    "## Use cost_complexity_pruning_path function to get alpha's and impurities from the tree for postpruning"
   ]
  },
  {
   "cell_type": "markdown",
   "id": "49cb0ecb-e129-41c0-a7b8-7ee0fa80ec81",
   "metadata": {},
   "source": [
    "### Plot impurities against alpha's returned by the function (y-axis: impurities, x-axis: alpha)"
   ]
  },
  {
   "cell_type": "markdown",
   "id": "508f795d-6b31-4e19-9ad3-a2a239fd1005",
   "metadata": {},
   "source": [
    "## Train Decision Trees with all alphas returned by the function and get the train mse and test mse"
   ]
  },
  {
   "cell_type": "markdown",
   "id": "d8aeb2c1-99db-4de6-9fcd-94b39951516c",
   "metadata": {},
   "source": [
    "## Plot train ans test mse's against alphas (y-axis: mse, x-axis: alpha)"
   ]
  },
  {
   "cell_type": "markdown",
   "id": "c36989a8-c8ce-434e-a6de-90d6510c1df1",
   "metadata": {},
   "source": [
    "## Grab and print the alpha that gives the smallest mse in testing set"
   ]
  },
  {
   "cell_type": "markdown",
   "id": "f3a63dab-3c97-491a-8f99-3d3c61a142c0",
   "metadata": {},
   "source": [
    "## Use the best alpha and fit a decsion tree"
   ]
  },
  {
   "cell_type": "markdown",
   "id": "f5b17e40-dede-4d6e-8556-7573c19080de",
   "metadata": {},
   "source": [
    "### Get training mse and rsquared "
   ]
  },
  {
   "cell_type": "markdown",
   "id": "e83755ef-68a8-4734-a749-8d4d1dc431ac",
   "metadata": {},
   "source": [
    "### Get testing mse and rsquared"
   ]
  },
  {
   "cell_type": "markdown",
   "id": "90e6c42d-77c0-46ac-9fd1-3a8e86daae33",
   "metadata": {},
   "source": [
    "### Plot decision tree using alpha that gives the smallest mse"
   ]
  },
  {
   "cell_type": "markdown",
   "id": "4db7c69d-dca0-437f-b593-612fca33c851",
   "metadata": {},
   "source": [
    "# Loading Classification Data"
   ]
  },
  {
   "cell_type": "markdown",
   "id": "53ec6ef8-8e19-42e8-a430-b45cc716cb6c",
   "metadata": {},
   "source": [
    "# Split training and testing data here"
   ]
  },
  {
   "cell_type": "markdown",
   "id": "4baa0171-60f3-4a2f-96a2-79066580d83e",
   "metadata": {},
   "source": [
    "# KNeighborsClassifier\n",
    "\n",
    "## No feature scaling\n",
    "fit Knn Classifier with k=5# Split training and testing data here"
   ]
  },
  {
   "cell_type": "markdown",
   "id": "eb52f07a-fe1b-40c8-8cc7-ba0c7d1d658c",
   "metadata": {},
   "source": [
    "### Get the accuracy and log_loss on the testing set "
   ]
  },
  {
   "cell_type": "markdown",
   "id": "c4e004f2-83f1-4b61-bb1c-6acc9a7b919f",
   "metadata": {},
   "source": [
    "### Find the k that gives the lowest log_loss for the problem. (Try k's from 1-40). Print best k found"
   ]
  },
  {
   "cell_type": "markdown",
   "id": "dbaaff39-600d-4cf0-bc77-ef0ce563315d",
   "metadata": {},
   "source": [
    "### Plot testing set log loss as k increases. Plot from k=1 to k=40 (y-axis: testing set log loss, x-axis: k)"
   ]
  },
  {
   "cell_type": "markdown",
   "id": "64a0b60e-d07b-4be2-abea-d6a34f96c53a",
   "metadata": {},
   "source": [
    "### Fit KnnClassifier with best k and get the accuracy and log loss on testing set"
   ]
  },
  {
   "cell_type": "markdown",
   "id": "3ea1e485-010a-43b6-a286-89e807b8d62d",
   "metadata": {},
   "source": [
    "## Feature scaling\n",
    "\n",
    "Fit knnClassifier here with k=5"
   ]
  },
  {
   "cell_type": "markdown",
   "id": "8f0441fb-28dd-41ad-a139-9bb1b4b6f724",
   "metadata": {},
   "source": [
    "### Get the accuracy and log_loss on the testing set "
   ]
  },
  {
   "cell_type": "markdown",
   "id": "3877c8fe-1e5d-4a01-afec-0cedd6caa528",
   "metadata": {},
   "source": [
    "### Find the k that gives the lowest log_loss for the problem. (Try k's from 1-40). Print best k found"
   ]
  },
  {
   "cell_type": "markdown",
   "id": "3d629174-c17a-4d47-9edd-ce3c4a068ff8",
   "metadata": {},
   "source": [
    "### Plot testing set log loss as k increases. Plot from k=1 to k=40 (y-axis: testing set log loss, x-axis: k)"
   ]
  },
  {
   "cell_type": "markdown",
   "id": "2485132a-ef5e-4233-b231-69368efb35ab",
   "metadata": {},
   "source": [
    "### Fit KnnClassifier with best k and get the accuracy and log loss on testing set"
   ]
  },
  {
   "cell_type": "markdown",
   "id": "25a022f7-8ce1-4a24-a6b5-b09d049f6f1b",
   "metadata": {},
   "source": [
    "# DecisionTreeClassifier\n",
    "\n",
    "Fit Decision tree"
   ]
  },
  {
   "cell_type": "markdown",
   "id": "ea30ad39-340c-42c6-b051-9fe5d01045cf",
   "metadata": {},
   "source": [
    "## Calculate training log_loss and accuracy"
   ]
  },
  {
   "cell_type": "markdown",
   "id": "0ac4a962-a2a9-491a-b25b-803c6b7176cc",
   "metadata": {},
   "source": [
    "## Calculate testing log_loss and accuracy "
   ]
  },
  {
   "cell_type": "markdown",
   "id": "c90df475-ea94-4962-adb0-6d8fb489952e",
   "metadata": {},
   "source": [
    "## Grid search decision tree hyperparameters for prepruning with log loss as the scoring"
   ]
  },
  {
   "cell_type": "markdown",
   "id": "1e6ce3a2-b8f7-408f-96e1-0e0539d44fce",
   "metadata": {},
   "source": [
    "### Print best_params, best_score"
   ]
  },
  {
   "cell_type": "markdown",
   "id": "61970630-26e2-47db-a9d7-047ffcb052fb",
   "metadata": {},
   "source": [
    "### Use best estimator from grid search and calculate log_loss and accuracy on the training set"
   ]
  },
  {
   "cell_type": "markdown",
   "id": "ea07c3f3-4f71-4b0a-b979-fc3b649e476d",
   "metadata": {},
   "source": [
    "### Use best estimator from grid search and calculate log_loss and accuracy on the testing set"
   ]
  },
  {
   "cell_type": "markdown",
   "id": "385da011-199e-42a0-ac7d-e8485eaa76b4",
   "metadata": {},
   "source": [
    "### Show dataframe for all Grid search results"
   ]
  },
  {
   "cell_type": "markdown",
   "id": "fcd2ef26-0c32-45f3-b316-16e1323c977b",
   "metadata": {},
   "source": [
    "## Use cost_complexity_pruning_path function to get alpha's and impurities from the tree"
   ]
  },
  {
   "cell_type": "markdown",
   "id": "2d0ac791-1c9c-46fe-bc8b-178fa9986b0f",
   "metadata": {},
   "source": [
    "### Plot impurities against alpha's returned by the function (y-axis: impurities, x-axis: alpha)"
   ]
  },
  {
   "cell_type": "markdown",
   "id": "b0961fa5-8b11-45fb-8605-45cfba9d9910",
   "metadata": {},
   "source": [
    "## Train Decision Trees with all alphas returned by the function and get the train mse and test mse"
   ]
  },
  {
   "cell_type": "markdown",
   "id": "a94f95cd-6115-44fc-b0e6-1b33aaf68d6e",
   "metadata": {},
   "source": [
    "## Plot log loss against alpha's"
   ]
  },
  {
   "cell_type": "markdown",
   "id": "07397e99-b66e-4439-872d-fac85de448d6",
   "metadata": {},
   "source": [
    "## Grab and print the alpha that gives the smallest log loss in testing set"
   ]
  },
  {
   "cell_type": "markdown",
   "id": "53a58034-75c1-4c09-b506-e20d2ecf295e",
   "metadata": {},
   "source": [
    "## Use the best alpha and fit a decsion tree"
   ]
  },
  {
   "cell_type": "markdown",
   "id": "30f36500-99a6-41bd-a943-04b306f6e2af",
   "metadata": {},
   "source": [
    "### Get training log loss and accuracy "
   ]
  },
  {
   "cell_type": "markdown",
   "id": "d7815ea1-3c5a-4e22-b299-aa506fc5011f",
   "metadata": {},
   "source": [
    "### Get testing log loss and accuracy"
   ]
  },
  {
   "cell_type": "markdown",
   "id": "cf486de3-938e-4b79-bc26-a0aff3b61602",
   "metadata": {},
   "source": [
    "### Plot decision tree using alpha that gives the smallest log loss"
   ]
  },
  {
   "cell_type": "markdown",
   "id": "62342a47-3a5e-4dcf-9c8b-0e942e3b5638",
   "metadata": {},
   "source": [
    "# Linear Discriminant Analysis\n",
    "Fit LDA algorithm here"
   ]
  },
  {
   "cell_type": "markdown",
   "id": "781329be-f351-4469-bda6-a256b4047f53",
   "metadata": {},
   "source": [
    "## Get log_loss and accuracy on testing set"
   ]
  },
  {
   "cell_type": "markdown",
   "id": "5189634e-58ca-4854-b75c-b425b7a2cedb",
   "metadata": {},
   "source": [
    "# Quadratic Discriminant analysis\n",
    "\n",
    "fit QDA algorithm here"
   ]
  },
  {
   "cell_type": "markdown",
   "id": "ae609575-62a5-4525-9c35-7c28050a0210",
   "metadata": {},
   "source": [
    "## Get log_loss and accuracy on testing set"
   ]
  },
  {
   "cell_type": "markdown",
   "id": "a72cc709-718a-458a-a98d-7d72930a9f46",
   "metadata": {},
   "source": [
    "# Gaussian Naive Bayes\n",
    "\n",
    "## No feature scaling\n",
    "fit Gaussian Naive Bayes without scaling"
   ]
  },
  {
   "cell_type": "markdown",
   "id": "5b705425-a15c-4d69-8ce3-dcdfd8e8a63b",
   "metadata": {},
   "source": [
    "### Get log_loss and accuracy on testing set"
   ]
  },
  {
   "cell_type": "markdown",
   "id": "7181de45-5861-42bd-80df-c9b56c89bdec",
   "metadata": {},
   "source": [
    "## Feature scaling (use StandardScaler)"
   ]
  },
  {
   "cell_type": "markdown",
   "id": "00fdad91-e2d3-45ef-9519-366dd43ff0b6",
   "metadata": {},
   "source": [
    "### fit Gaussian Naive Bayes algorithm here using feature scaling"
   ]
  },
  {
   "cell_type": "markdown",
   "id": "e7fe40a4-3d94-455d-a59f-cdc6c5c9cef9",
   "metadata": {},
   "source": [
    "### Get log_loss and accuracy on testing set with feature scaling"
   ]
  },
  {
   "cell_type": "markdown",
   "id": "e8415097-4b27-49ef-bd6d-3285cd63d427",
   "metadata": {},
   "source": [
    "# Multinomial Naive Bayes\n",
    "\n",
    "## No Feature Scaling\n",
    "fit Multinomial Naive Bayes algorithm here without feature scaling"
   ]
  },
  {
   "cell_type": "markdown",
   "id": "5fbf9274-5f0f-4fdf-a63b-d7f8a2aaec2e",
   "metadata": {},
   "source": [
    "### Get log_loss and accuracy on testing set"
   ]
  },
  {
   "cell_type": "markdown",
   "id": "787c1f2a-4745-413c-8883-6266a09f437a",
   "metadata": {},
   "source": [
    "## Feature scaling (use MinMaxScaler)"
   ]
  },
  {
   "cell_type": "markdown",
   "id": "c8b7a5c7-355d-4950-8c9d-94839b484873",
   "metadata": {},
   "source": [
    "### fit Multinomial Naive Bayes algorithm here using feature scaling"
   ]
  },
  {
   "cell_type": "markdown",
   "id": "f6c5bbbf-0a47-4845-b550-9f1c1e2436a9",
   "metadata": {},
   "source": [
    "### Get log_loss and accuracy on testing set"
   ]
  }
 ],
 "metadata": {
  "kernelspec": {
   "display_name": "Python 3 (ipykernel)",
   "language": "python",
   "name": "python3"
  },
  "language_info": {
   "codemirror_mode": {
    "name": "ipython",
    "version": 3
   },
   "file_extension": ".py",
   "mimetype": "text/x-python",
   "name": "python",
   "nbconvert_exporter": "python",
   "pygments_lexer": "ipython3",
   "version": "3.9.7"
  }
 },
 "nbformat": 4,
 "nbformat_minor": 5
}
